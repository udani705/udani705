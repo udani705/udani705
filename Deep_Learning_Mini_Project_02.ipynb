{
  "nbformat": 4,
  "nbformat_minor": 0,
  "metadata": {
    "colab": {
      "provenance": [],
      "authorship_tag": "ABX9TyPUEyUrm4L3Mv35lZfJ9aGN",
      "include_colab_link": true
    },
    "kernelspec": {
      "name": "python3",
      "display_name": "Python 3"
    },
    "language_info": {
      "name": "python"
    }
  },
  "cells": [
    {
      "cell_type": "markdown",
      "metadata": {
        "id": "view-in-github",
        "colab_type": "text"
      },
      "source": [
        "<a href=\"https://colab.research.google.com/github/udani705/udani705/blob/main/Deep_Learning_Mini_Project_02.ipynb\" target=\"_parent\"><img src=\"https://colab.research.google.com/assets/colab-badge.svg\" alt=\"Open In Colab\"/></a>"
      ]
    },
    {
      "cell_type": "markdown",
      "source": [
        "#Importing Libraries"
      ],
      "metadata": {
        "id": "nl_Tk8YKcWHJ"
      }
    },
    {
      "cell_type": "code",
      "execution_count": 50,
      "metadata": {
        "colab": {
          "base_uri": "https://localhost:8080/"
        },
        "id": "p4mQXbOQ1f6Y",
        "outputId": "3c23b1ed-e8c4-425c-9658-075a9bd11ff7"
      },
      "outputs": [
        {
          "output_type": "stream",
          "name": "stdout",
          "text": [
            "Requirement already satisfied: pandas in /usr/local/lib/python3.10/dist-packages (1.5.3)\n",
            "Requirement already satisfied: python-dateutil>=2.8.1 in /usr/local/lib/python3.10/dist-packages (from pandas) (2.8.2)\n",
            "Requirement already satisfied: pytz>=2020.1 in /usr/local/lib/python3.10/dist-packages (from pandas) (2023.4)\n",
            "Requirement already satisfied: numpy>=1.21.0 in /usr/local/lib/python3.10/dist-packages (from pandas) (1.25.2)\n",
            "Requirement already satisfied: six>=1.5 in /usr/local/lib/python3.10/dist-packages (from python-dateutil>=2.8.1->pandas) (1.16.0)\n"
          ]
        }
      ],
      "source": [
        "import pandas as pd\n",
        "!pip install pandas"
      ]
    },
    {
      "cell_type": "markdown",
      "source": [
        "#Mount G-Drive"
      ],
      "metadata": {
        "id": "SwjIJWm8ct5H"
      }
    },
    {
      "cell_type": "code",
      "source": [
        "from google.colab import drive\n",
        "drive.mount('/content/drive')"
      ],
      "metadata": {
        "colab": {
          "base_uri": "https://localhost:8080/"
        },
        "id": "I2_RlmL535q0",
        "outputId": "37fb7ecd-8412-4c50-ae3e-ecfbc2cf4a45"
      },
      "execution_count": 51,
      "outputs": [
        {
          "output_type": "stream",
          "name": "stdout",
          "text": [
            "Drive already mounted at /content/drive; to attempt to forcibly remount, call drive.mount(\"/content/drive\", force_remount=True).\n"
          ]
        }
      ]
    },
    {
      "cell_type": "markdown",
      "source": [
        "#Give the Path to relevent CSV file"
      ],
      "metadata": {
        "id": "gaOlKQ4rcvfy"
      }
    },
    {
      "cell_type": "code",
      "source": [
        "path = '/content/drive/MyDrive/CSV/TeleCom_2009_2023_Weekly.csv'\n",
        "df = pd.read_csv(path)"
      ],
      "metadata": {
        "id": "w8A_VA3P4FE4"
      },
      "execution_count": 52,
      "outputs": []
    },
    {
      "cell_type": "code",
      "source": [
        "df = pd.read_csv(path)"
      ],
      "metadata": {
        "id": "XGcvJFaT5wuo"
      },
      "execution_count": 53,
      "outputs": []
    },
    {
      "cell_type": "markdown",
      "source": [
        "#Get the 1st 5 raws printed"
      ],
      "metadata": {
        "id": "qBZegd1Ec2K2"
      }
    },
    {
      "cell_type": "code",
      "source": [
        "print(df.head())"
      ],
      "metadata": {
        "colab": {
          "base_uri": "https://localhost:8080/"
        },
        "id": "P7Cygpjg53LN",
        "outputId": "a565adfc-4134-47df-b153-b7db02faaf12"
      },
      "execution_count": 54,
      "outputs": [
        {
          "output_type": "stream",
          "name": "stdout",
          "text": [
            "        Date  Price   Open  High    Low     Vol. Change %\n",
            "0  5/17/2009  43.75  40.00  45.0  39.75  595.70K   10.06%\n",
            "1  5/24/2009  42.00  44.00  44.5  41.50  386.50K   -4.00%\n",
            "2  5/31/2009  41.75  41.75  43.5  41.00  178.20K   -0.60%\n",
            "3   6/7/2009  43.00  42.00  43.5  41.25  854.30K    2.99%\n",
            "4  6/14/2009  49.50  42.50  50.0  41.75    1.58M   15.12%\n"
          ]
        }
      ]
    },
    {
      "cell_type": "markdown",
      "source": [
        "#Get all the data displayed"
      ],
      "metadata": {
        "id": "FvVvXI3HdHSb"
      }
    },
    {
      "cell_type": "code",
      "source": [
        "df\n"
      ],
      "metadata": {
        "colab": {
          "base_uri": "https://localhost:8080/",
          "height": 424
        },
        "id": "K_woX1YZZKXx",
        "outputId": "2b2dec16-fd9a-4f34-ed0f-4864cf8a4427"
      },
      "execution_count": 55,
      "outputs": [
        {
          "output_type": "execute_result",
          "data": {
            "text/plain": [
              "          Date   Price    Open    High    Low     Vol. Change %\n",
              "0    5/17/2009   43.75   40.00   45.00  39.75  595.70K   10.06%\n",
              "1    5/24/2009   42.00   44.00   44.50  41.50  386.50K   -4.00%\n",
              "2    5/31/2009   41.75   41.75   43.50  41.00  178.20K   -0.60%\n",
              "3     6/7/2009   43.00   42.00   43.50  41.25  854.30K    2.99%\n",
              "4    6/14/2009   49.50   42.50   50.00  41.75    1.58M   15.12%\n",
              "..         ...     ...     ...     ...    ...      ...      ...\n",
              "712  3/12/2023   79.50   83.10   83.80  79.00  780.00K   -4.33%\n",
              "713  3/19/2023  111.00   79.80  121.75  79.80   10.08M   39.62%\n",
              "714  3/26/2023   94.70  112.50  117.00  91.50    2.24M  -14.68%\n",
              "715   4/2/2023  102.00   91.50  102.00  89.60    1.33M    7.71%\n",
              "716   4/9/2023   99.40  100.00  102.75  96.20  258.99K   -2.55%\n",
              "\n",
              "[717 rows x 7 columns]"
            ],
            "text/html": [
              "\n",
              "  <div id=\"df-8850c19c-6d0a-49c9-a8a8-a28817c56f80\" class=\"colab-df-container\">\n",
              "    <div>\n",
              "<style scoped>\n",
              "    .dataframe tbody tr th:only-of-type {\n",
              "        vertical-align: middle;\n",
              "    }\n",
              "\n",
              "    .dataframe tbody tr th {\n",
              "        vertical-align: top;\n",
              "    }\n",
              "\n",
              "    .dataframe thead th {\n",
              "        text-align: right;\n",
              "    }\n",
              "</style>\n",
              "<table border=\"1\" class=\"dataframe\">\n",
              "  <thead>\n",
              "    <tr style=\"text-align: right;\">\n",
              "      <th></th>\n",
              "      <th>Date</th>\n",
              "      <th>Price</th>\n",
              "      <th>Open</th>\n",
              "      <th>High</th>\n",
              "      <th>Low</th>\n",
              "      <th>Vol.</th>\n",
              "      <th>Change %</th>\n",
              "    </tr>\n",
              "  </thead>\n",
              "  <tbody>\n",
              "    <tr>\n",
              "      <th>0</th>\n",
              "      <td>5/17/2009</td>\n",
              "      <td>43.75</td>\n",
              "      <td>40.00</td>\n",
              "      <td>45.00</td>\n",
              "      <td>39.75</td>\n",
              "      <td>595.70K</td>\n",
              "      <td>10.06%</td>\n",
              "    </tr>\n",
              "    <tr>\n",
              "      <th>1</th>\n",
              "      <td>5/24/2009</td>\n",
              "      <td>42.00</td>\n",
              "      <td>44.00</td>\n",
              "      <td>44.50</td>\n",
              "      <td>41.50</td>\n",
              "      <td>386.50K</td>\n",
              "      <td>-4.00%</td>\n",
              "    </tr>\n",
              "    <tr>\n",
              "      <th>2</th>\n",
              "      <td>5/31/2009</td>\n",
              "      <td>41.75</td>\n",
              "      <td>41.75</td>\n",
              "      <td>43.50</td>\n",
              "      <td>41.00</td>\n",
              "      <td>178.20K</td>\n",
              "      <td>-0.60%</td>\n",
              "    </tr>\n",
              "    <tr>\n",
              "      <th>3</th>\n",
              "      <td>6/7/2009</td>\n",
              "      <td>43.00</td>\n",
              "      <td>42.00</td>\n",
              "      <td>43.50</td>\n",
              "      <td>41.25</td>\n",
              "      <td>854.30K</td>\n",
              "      <td>2.99%</td>\n",
              "    </tr>\n",
              "    <tr>\n",
              "      <th>4</th>\n",
              "      <td>6/14/2009</td>\n",
              "      <td>49.50</td>\n",
              "      <td>42.50</td>\n",
              "      <td>50.00</td>\n",
              "      <td>41.75</td>\n",
              "      <td>1.58M</td>\n",
              "      <td>15.12%</td>\n",
              "    </tr>\n",
              "    <tr>\n",
              "      <th>...</th>\n",
              "      <td>...</td>\n",
              "      <td>...</td>\n",
              "      <td>...</td>\n",
              "      <td>...</td>\n",
              "      <td>...</td>\n",
              "      <td>...</td>\n",
              "      <td>...</td>\n",
              "    </tr>\n",
              "    <tr>\n",
              "      <th>712</th>\n",
              "      <td>3/12/2023</td>\n",
              "      <td>79.50</td>\n",
              "      <td>83.10</td>\n",
              "      <td>83.80</td>\n",
              "      <td>79.00</td>\n",
              "      <td>780.00K</td>\n",
              "      <td>-4.33%</td>\n",
              "    </tr>\n",
              "    <tr>\n",
              "      <th>713</th>\n",
              "      <td>3/19/2023</td>\n",
              "      <td>111.00</td>\n",
              "      <td>79.80</td>\n",
              "      <td>121.75</td>\n",
              "      <td>79.80</td>\n",
              "      <td>10.08M</td>\n",
              "      <td>39.62%</td>\n",
              "    </tr>\n",
              "    <tr>\n",
              "      <th>714</th>\n",
              "      <td>3/26/2023</td>\n",
              "      <td>94.70</td>\n",
              "      <td>112.50</td>\n",
              "      <td>117.00</td>\n",
              "      <td>91.50</td>\n",
              "      <td>2.24M</td>\n",
              "      <td>-14.68%</td>\n",
              "    </tr>\n",
              "    <tr>\n",
              "      <th>715</th>\n",
              "      <td>4/2/2023</td>\n",
              "      <td>102.00</td>\n",
              "      <td>91.50</td>\n",
              "      <td>102.00</td>\n",
              "      <td>89.60</td>\n",
              "      <td>1.33M</td>\n",
              "      <td>7.71%</td>\n",
              "    </tr>\n",
              "    <tr>\n",
              "      <th>716</th>\n",
              "      <td>4/9/2023</td>\n",
              "      <td>99.40</td>\n",
              "      <td>100.00</td>\n",
              "      <td>102.75</td>\n",
              "      <td>96.20</td>\n",
              "      <td>258.99K</td>\n",
              "      <td>-2.55%</td>\n",
              "    </tr>\n",
              "  </tbody>\n",
              "</table>\n",
              "<p>717 rows × 7 columns</p>\n",
              "</div>\n",
              "    <div class=\"colab-df-buttons\">\n",
              "\n",
              "  <div class=\"colab-df-container\">\n",
              "    <button class=\"colab-df-convert\" onclick=\"convertToInteractive('df-8850c19c-6d0a-49c9-a8a8-a28817c56f80')\"\n",
              "            title=\"Convert this dataframe to an interactive table.\"\n",
              "            style=\"display:none;\">\n",
              "\n",
              "  <svg xmlns=\"http://www.w3.org/2000/svg\" height=\"24px\" viewBox=\"0 -960 960 960\">\n",
              "    <path d=\"M120-120v-720h720v720H120Zm60-500h600v-160H180v160Zm220 220h160v-160H400v160Zm0 220h160v-160H400v160ZM180-400h160v-160H180v160Zm440 0h160v-160H620v160ZM180-180h160v-160H180v160Zm440 0h160v-160H620v160Z\"/>\n",
              "  </svg>\n",
              "    </button>\n",
              "\n",
              "  <style>\n",
              "    .colab-df-container {\n",
              "      display:flex;\n",
              "      gap: 12px;\n",
              "    }\n",
              "\n",
              "    .colab-df-convert {\n",
              "      background-color: #E8F0FE;\n",
              "      border: none;\n",
              "      border-radius: 50%;\n",
              "      cursor: pointer;\n",
              "      display: none;\n",
              "      fill: #1967D2;\n",
              "      height: 32px;\n",
              "      padding: 0 0 0 0;\n",
              "      width: 32px;\n",
              "    }\n",
              "\n",
              "    .colab-df-convert:hover {\n",
              "      background-color: #E2EBFA;\n",
              "      box-shadow: 0px 1px 2px rgba(60, 64, 67, 0.3), 0px 1px 3px 1px rgba(60, 64, 67, 0.15);\n",
              "      fill: #174EA6;\n",
              "    }\n",
              "\n",
              "    .colab-df-buttons div {\n",
              "      margin-bottom: 4px;\n",
              "    }\n",
              "\n",
              "    [theme=dark] .colab-df-convert {\n",
              "      background-color: #3B4455;\n",
              "      fill: #D2E3FC;\n",
              "    }\n",
              "\n",
              "    [theme=dark] .colab-df-convert:hover {\n",
              "      background-color: #434B5C;\n",
              "      box-shadow: 0px 1px 3px 1px rgba(0, 0, 0, 0.15);\n",
              "      filter: drop-shadow(0px 1px 2px rgba(0, 0, 0, 0.3));\n",
              "      fill: #FFFFFF;\n",
              "    }\n",
              "  </style>\n",
              "\n",
              "    <script>\n",
              "      const buttonEl =\n",
              "        document.querySelector('#df-8850c19c-6d0a-49c9-a8a8-a28817c56f80 button.colab-df-convert');\n",
              "      buttonEl.style.display =\n",
              "        google.colab.kernel.accessAllowed ? 'block' : 'none';\n",
              "\n",
              "      async function convertToInteractive(key) {\n",
              "        const element = document.querySelector('#df-8850c19c-6d0a-49c9-a8a8-a28817c56f80');\n",
              "        const dataTable =\n",
              "          await google.colab.kernel.invokeFunction('convertToInteractive',\n",
              "                                                    [key], {});\n",
              "        if (!dataTable) return;\n",
              "\n",
              "        const docLinkHtml = 'Like what you see? Visit the ' +\n",
              "          '<a target=\"_blank\" href=https://colab.research.google.com/notebooks/data_table.ipynb>data table notebook</a>'\n",
              "          + ' to learn more about interactive tables.';\n",
              "        element.innerHTML = '';\n",
              "        dataTable['output_type'] = 'display_data';\n",
              "        await google.colab.output.renderOutput(dataTable, element);\n",
              "        const docLink = document.createElement('div');\n",
              "        docLink.innerHTML = docLinkHtml;\n",
              "        element.appendChild(docLink);\n",
              "      }\n",
              "    </script>\n",
              "  </div>\n",
              "\n",
              "\n",
              "<div id=\"df-6b0bb0f7-e42b-410a-bf5c-c6d72e82f40f\">\n",
              "  <button class=\"colab-df-quickchart\" onclick=\"quickchart('df-6b0bb0f7-e42b-410a-bf5c-c6d72e82f40f')\"\n",
              "            title=\"Suggest charts\"\n",
              "            style=\"display:none;\">\n",
              "\n",
              "<svg xmlns=\"http://www.w3.org/2000/svg\" height=\"24px\"viewBox=\"0 0 24 24\"\n",
              "     width=\"24px\">\n",
              "    <g>\n",
              "        <path d=\"M19 3H5c-1.1 0-2 .9-2 2v14c0 1.1.9 2 2 2h14c1.1 0 2-.9 2-2V5c0-1.1-.9-2-2-2zM9 17H7v-7h2v7zm4 0h-2V7h2v10zm4 0h-2v-4h2v4z\"/>\n",
              "    </g>\n",
              "</svg>\n",
              "  </button>\n",
              "\n",
              "<style>\n",
              "  .colab-df-quickchart {\n",
              "      --bg-color: #E8F0FE;\n",
              "      --fill-color: #1967D2;\n",
              "      --hover-bg-color: #E2EBFA;\n",
              "      --hover-fill-color: #174EA6;\n",
              "      --disabled-fill-color: #AAA;\n",
              "      --disabled-bg-color: #DDD;\n",
              "  }\n",
              "\n",
              "  [theme=dark] .colab-df-quickchart {\n",
              "      --bg-color: #3B4455;\n",
              "      --fill-color: #D2E3FC;\n",
              "      --hover-bg-color: #434B5C;\n",
              "      --hover-fill-color: #FFFFFF;\n",
              "      --disabled-bg-color: #3B4455;\n",
              "      --disabled-fill-color: #666;\n",
              "  }\n",
              "\n",
              "  .colab-df-quickchart {\n",
              "    background-color: var(--bg-color);\n",
              "    border: none;\n",
              "    border-radius: 50%;\n",
              "    cursor: pointer;\n",
              "    display: none;\n",
              "    fill: var(--fill-color);\n",
              "    height: 32px;\n",
              "    padding: 0;\n",
              "    width: 32px;\n",
              "  }\n",
              "\n",
              "  .colab-df-quickchart:hover {\n",
              "    background-color: var(--hover-bg-color);\n",
              "    box-shadow: 0 1px 2px rgba(60, 64, 67, 0.3), 0 1px 3px 1px rgba(60, 64, 67, 0.15);\n",
              "    fill: var(--button-hover-fill-color);\n",
              "  }\n",
              "\n",
              "  .colab-df-quickchart-complete:disabled,\n",
              "  .colab-df-quickchart-complete:disabled:hover {\n",
              "    background-color: var(--disabled-bg-color);\n",
              "    fill: var(--disabled-fill-color);\n",
              "    box-shadow: none;\n",
              "  }\n",
              "\n",
              "  .colab-df-spinner {\n",
              "    border: 2px solid var(--fill-color);\n",
              "    border-color: transparent;\n",
              "    border-bottom-color: var(--fill-color);\n",
              "    animation:\n",
              "      spin 1s steps(1) infinite;\n",
              "  }\n",
              "\n",
              "  @keyframes spin {\n",
              "    0% {\n",
              "      border-color: transparent;\n",
              "      border-bottom-color: var(--fill-color);\n",
              "      border-left-color: var(--fill-color);\n",
              "    }\n",
              "    20% {\n",
              "      border-color: transparent;\n",
              "      border-left-color: var(--fill-color);\n",
              "      border-top-color: var(--fill-color);\n",
              "    }\n",
              "    30% {\n",
              "      border-color: transparent;\n",
              "      border-left-color: var(--fill-color);\n",
              "      border-top-color: var(--fill-color);\n",
              "      border-right-color: var(--fill-color);\n",
              "    }\n",
              "    40% {\n",
              "      border-color: transparent;\n",
              "      border-right-color: var(--fill-color);\n",
              "      border-top-color: var(--fill-color);\n",
              "    }\n",
              "    60% {\n",
              "      border-color: transparent;\n",
              "      border-right-color: var(--fill-color);\n",
              "    }\n",
              "    80% {\n",
              "      border-color: transparent;\n",
              "      border-right-color: var(--fill-color);\n",
              "      border-bottom-color: var(--fill-color);\n",
              "    }\n",
              "    90% {\n",
              "      border-color: transparent;\n",
              "      border-bottom-color: var(--fill-color);\n",
              "    }\n",
              "  }\n",
              "</style>\n",
              "\n",
              "  <script>\n",
              "    async function quickchart(key) {\n",
              "      const quickchartButtonEl =\n",
              "        document.querySelector('#' + key + ' button');\n",
              "      quickchartButtonEl.disabled = true;  // To prevent multiple clicks.\n",
              "      quickchartButtonEl.classList.add('colab-df-spinner');\n",
              "      try {\n",
              "        const charts = await google.colab.kernel.invokeFunction(\n",
              "            'suggestCharts', [key], {});\n",
              "      } catch (error) {\n",
              "        console.error('Error during call to suggestCharts:', error);\n",
              "      }\n",
              "      quickchartButtonEl.classList.remove('colab-df-spinner');\n",
              "      quickchartButtonEl.classList.add('colab-df-quickchart-complete');\n",
              "    }\n",
              "    (() => {\n",
              "      let quickchartButtonEl =\n",
              "        document.querySelector('#df-6b0bb0f7-e42b-410a-bf5c-c6d72e82f40f button');\n",
              "      quickchartButtonEl.style.display =\n",
              "        google.colab.kernel.accessAllowed ? 'block' : 'none';\n",
              "    })();\n",
              "  </script>\n",
              "</div>\n",
              "\n",
              "  <div id=\"id_9822f819-ab97-4902-86fd-27a585e3cca4\">\n",
              "    <style>\n",
              "      .colab-df-generate {\n",
              "        background-color: #E8F0FE;\n",
              "        border: none;\n",
              "        border-radius: 50%;\n",
              "        cursor: pointer;\n",
              "        display: none;\n",
              "        fill: #1967D2;\n",
              "        height: 32px;\n",
              "        padding: 0 0 0 0;\n",
              "        width: 32px;\n",
              "      }\n",
              "\n",
              "      .colab-df-generate:hover {\n",
              "        background-color: #E2EBFA;\n",
              "        box-shadow: 0px 1px 2px rgba(60, 64, 67, 0.3), 0px 1px 3px 1px rgba(60, 64, 67, 0.15);\n",
              "        fill: #174EA6;\n",
              "      }\n",
              "\n",
              "      [theme=dark] .colab-df-generate {\n",
              "        background-color: #3B4455;\n",
              "        fill: #D2E3FC;\n",
              "      }\n",
              "\n",
              "      [theme=dark] .colab-df-generate:hover {\n",
              "        background-color: #434B5C;\n",
              "        box-shadow: 0px 1px 3px 1px rgba(0, 0, 0, 0.15);\n",
              "        filter: drop-shadow(0px 1px 2px rgba(0, 0, 0, 0.3));\n",
              "        fill: #FFFFFF;\n",
              "      }\n",
              "    </style>\n",
              "    <button class=\"colab-df-generate\" onclick=\"generateWithVariable('df')\"\n",
              "            title=\"Generate code using this dataframe.\"\n",
              "            style=\"display:none;\">\n",
              "\n",
              "  <svg xmlns=\"http://www.w3.org/2000/svg\" height=\"24px\"viewBox=\"0 0 24 24\"\n",
              "       width=\"24px\">\n",
              "    <path d=\"M7,19H8.4L18.45,9,17,7.55,7,17.6ZM5,21V16.75L18.45,3.32a2,2,0,0,1,2.83,0l1.4,1.43a1.91,1.91,0,0,1,.58,1.4,1.91,1.91,0,0,1-.58,1.4L9.25,21ZM18.45,9,17,7.55Zm-12,3A5.31,5.31,0,0,0,4.9,8.1,5.31,5.31,0,0,0,1,6.5,5.31,5.31,0,0,0,4.9,4.9,5.31,5.31,0,0,0,6.5,1,5.31,5.31,0,0,0,8.1,4.9,5.31,5.31,0,0,0,12,6.5,5.46,5.46,0,0,0,6.5,12Z\"/>\n",
              "  </svg>\n",
              "    </button>\n",
              "    <script>\n",
              "      (() => {\n",
              "      const buttonEl =\n",
              "        document.querySelector('#id_9822f819-ab97-4902-86fd-27a585e3cca4 button.colab-df-generate');\n",
              "      buttonEl.style.display =\n",
              "        google.colab.kernel.accessAllowed ? 'block' : 'none';\n",
              "\n",
              "      buttonEl.onclick = () => {\n",
              "        google.colab.notebook.generateWithVariable('df');\n",
              "      }\n",
              "      })();\n",
              "    </script>\n",
              "  </div>\n",
              "\n",
              "    </div>\n",
              "  </div>\n"
            ],
            "application/vnd.google.colaboratory.intrinsic+json": {
              "type": "dataframe",
              "variable_name": "df",
              "repr_error": "'str' object has no attribute 'empty'"
            }
          },
          "metadata": {},
          "execution_count": 55
        }
      ]
    },
    {
      "cell_type": "markdown",
      "source": [
        "#Check if the code contains any null values"
      ],
      "metadata": {
        "id": "1Sb3MNYfdKwI"
      }
    },
    {
      "cell_type": "code",
      "source": [
        "df.isnull().sum()\n"
      ],
      "metadata": {
        "colab": {
          "base_uri": "https://localhost:8080/"
        },
        "id": "X4i-Fq-HZMo7",
        "outputId": "212f0b53-65ca-4162-d233-db50ef0628a5"
      },
      "execution_count": 69,
      "outputs": [
        {
          "output_type": "execute_result",
          "data": {
            "text/plain": [
              "Date        0\n",
              "Price       0\n",
              "Open        0\n",
              "High        0\n",
              "Low         0\n",
              "Vol.        0\n",
              "Change %    0\n",
              "dtype: int64"
            ]
          },
          "metadata": {},
          "execution_count": 69
        }
      ]
    },
    {
      "cell_type": "markdown",
      "source": [
        "#Partition the obtained data into training and testing sets"
      ],
      "metadata": {
        "id": "6GIuDoqIdUq3"
      }
    },
    {
      "cell_type": "code",
      "source": [
        "from sklearn.model_selection import train_test_split"
      ],
      "metadata": {
        "id": "_Bwn9grL56Vw"
      },
      "execution_count": 70,
      "outputs": []
    },
    {
      "cell_type": "markdown",
      "source": [
        "# Assuming 'Price' column contains the target variable"
      ],
      "metadata": {
        "id": "TNSgehJbdYar"
      }
    },
    {
      "cell_type": "code",
      "source": [
        "X = df[['Open', 'High', 'Low', 'Vol.', 'Change %']]\n",
        "y = df['Price']"
      ],
      "metadata": {
        "id": "7LFvIVYD58a7"
      },
      "execution_count": 71,
      "outputs": []
    },
    {
      "cell_type": "markdown",
      "source": [
        "# Assuming 'Price' column contains the target variable"
      ],
      "metadata": {
        "id": "L41kGymddeIu"
      }
    },
    {
      "cell_type": "code",
      "source": [
        "X_train, X_test, y_train, y_test = train_test_split(X, y, test_size=0.2, random_state=42)\n",
        "\n"
      ],
      "metadata": {
        "id": "qOE1l38h6ka9"
      },
      "execution_count": 72,
      "outputs": []
    },
    {
      "cell_type": "markdown",
      "source": [
        "# Construct the LSTM - RNN model using the training dataset"
      ],
      "metadata": {
        "id": "QAPgax8Qdg9m"
      }
    },
    {
      "cell_type": "code",
      "source": [
        "from tensorflow.keras.models import Sequential\n",
        "from tensorflow.keras.layers import LSTM, Dense\n",
        "from sklearn.preprocessing import MinMaxScaler\n",
        "import numpy as np"
      ],
      "metadata": {
        "id": "UQI27l936v2m"
      },
      "execution_count": 73,
      "outputs": []
    },
    {
      "cell_type": "markdown",
      "source": [
        "# Convert 'Vol.' column to numeric after removing non-numeric characters"
      ],
      "metadata": {
        "id": "euEGMVWXduAn"
      }
    },
    {
      "cell_type": "code",
      "source": [
        "X_train['Vol.'] = X_train['Vol.'].str.replace(r'\\D', '').astype(float)\n",
        "X_test['Vol.'] = X_test['Vol.'].str.replace(r'\\D', '').astype(float)"
      ],
      "metadata": {
        "colab": {
          "base_uri": "https://localhost:8080/"
        },
        "id": "-IHse14G7BgY",
        "outputId": "730dd6a5-1b23-4e54-90d0-5197347516bd"
      },
      "execution_count": 74,
      "outputs": [
        {
          "output_type": "stream",
          "name": "stderr",
          "text": [
            "<ipython-input-74-3c98a710324e>:1: FutureWarning: The default value of regex will change from True to False in a future version.\n",
            "  X_train['Vol.'] = X_train['Vol.'].str.replace(r'\\D', '').astype(float)\n",
            "<ipython-input-74-3c98a710324e>:2: FutureWarning: The default value of regex will change from True to False in a future version.\n",
            "  X_test['Vol.'] = X_test['Vol.'].str.replace(r'\\D', '').astype(float)\n"
          ]
        }
      ]
    },
    {
      "cell_type": "markdown",
      "source": [
        "# Convert 'Change %' column to numeric after removing '%' character"
      ],
      "metadata": {
        "id": "qNMyEPTudxvG"
      }
    },
    {
      "cell_type": "code",
      "source": [
        "X_train['Change %'] = X_train['Change %'].str.replace('%', '').astype(float)\n",
        "X_test['Change %'] = X_test['Change %'].str.replace('%', '').astype(float)\n",
        "\n",
        "\n"
      ],
      "metadata": {
        "id": "x3swFBgy7d0o"
      },
      "execution_count": 75,
      "outputs": []
    },
    {
      "cell_type": "markdown",
      "source": [
        "# Perform scaling"
      ],
      "metadata": {
        "id": "RqDa6J_nd34U"
      }
    },
    {
      "cell_type": "code",
      "source": [
        "scaler = MinMaxScaler()\n",
        "X_train_scaled = scaler.fit_transform(X_train)\n",
        "X_test_scaled = scaler.transform(X_test)"
      ],
      "metadata": {
        "id": "mQRL8Z7v7ru_"
      },
      "execution_count": 76,
      "outputs": []
    },
    {
      "cell_type": "markdown",
      "source": [
        "# Reshape the data for LSTM"
      ],
      "metadata": {
        "id": "AsNWzrPXd5gg"
      }
    },
    {
      "cell_type": "code",
      "source": [
        "X_train_reshaped = X_train_scaled.reshape((X_train_scaled.shape[0], 1, X_train_scaled.shape[1]))\n",
        "X_test_reshaped = X_test_scaled.reshape((X_test_scaled.shape[0], 1, X_test_scaled.shape[1]))\n"
      ],
      "metadata": {
        "id": "KtirLxXR77N1"
      },
      "execution_count": 77,
      "outputs": []
    },
    {
      "cell_type": "markdown",
      "source": [
        "# Define the LSTM model"
      ],
      "metadata": {
        "id": "jGtK3U8Id-si"
      }
    },
    {
      "cell_type": "code",
      "source": [
        "model = Sequential()\n",
        "model.add(LSTM(50, input_shape=(X_train_reshaped.shape[1], X_train_reshaped.shape[2])))\n",
        "model.add(Dense(1))\n",
        "model.compile(optimizer='adam', loss='mse')\n"
      ],
      "metadata": {
        "id": "ELopvTHv78xI"
      },
      "execution_count": 78,
      "outputs": []
    },
    {
      "cell_type": "markdown",
      "source": [
        "# Fit the model"
      ],
      "metadata": {
        "id": "m9G2g63keATK"
      }
    },
    {
      "cell_type": "code",
      "source": [
        "model.fit(X_train_reshaped, y_train, epochs=50, batch_size=32, verbose=1)"
      ],
      "metadata": {
        "colab": {
          "base_uri": "https://localhost:8080/"
        },
        "id": "BO5j0HX58A5N",
        "outputId": "abf205bd-19ab-4e4a-9001-b55d03876bd6"
      },
      "execution_count": 79,
      "outputs": [
        {
          "output_type": "stream",
          "name": "stdout",
          "text": [
            "Epoch 1/50\n",
            "18/18 [==============================] - 2s 3ms/step - loss: 1744.8751\n",
            "Epoch 2/50\n",
            "18/18 [==============================] - 0s 3ms/step - loss: 1736.1300\n",
            "Epoch 3/50\n",
            "18/18 [==============================] - 0s 3ms/step - loss: 1725.5979\n",
            "Epoch 4/50\n",
            "18/18 [==============================] - 0s 3ms/step - loss: 1711.8523\n",
            "Epoch 5/50\n",
            "18/18 [==============================] - 0s 3ms/step - loss: 1693.3713\n",
            "Epoch 6/50\n",
            "18/18 [==============================] - 0s 2ms/step - loss: 1669.4930\n",
            "Epoch 7/50\n",
            "18/18 [==============================] - 0s 3ms/step - loss: 1638.9310\n",
            "Epoch 8/50\n",
            "18/18 [==============================] - 0s 3ms/step - loss: 1601.8407\n",
            "Epoch 9/50\n",
            "18/18 [==============================] - 0s 4ms/step - loss: 1558.2731\n",
            "Epoch 10/50\n",
            "18/18 [==============================] - 0s 3ms/step - loss: 1507.7812\n",
            "Epoch 11/50\n",
            "18/18 [==============================] - 0s 3ms/step - loss: 1452.9084\n",
            "Epoch 12/50\n",
            "18/18 [==============================] - 0s 3ms/step - loss: 1392.1506\n",
            "Epoch 13/50\n",
            "18/18 [==============================] - 0s 3ms/step - loss: 1327.8932\n",
            "Epoch 14/50\n",
            "18/18 [==============================] - 0s 3ms/step - loss: 1262.1677\n",
            "Epoch 15/50\n",
            "18/18 [==============================] - 0s 3ms/step - loss: 1194.7384\n",
            "Epoch 16/50\n",
            "18/18 [==============================] - 0s 3ms/step - loss: 1126.9976\n",
            "Epoch 17/50\n",
            "18/18 [==============================] - 0s 3ms/step - loss: 1059.5024\n",
            "Epoch 18/50\n",
            "18/18 [==============================] - 0s 3ms/step - loss: 993.7608\n",
            "Epoch 19/50\n",
            "18/18 [==============================] - 0s 3ms/step - loss: 929.6277\n",
            "Epoch 20/50\n",
            "18/18 [==============================] - 0s 3ms/step - loss: 867.8157\n",
            "Epoch 21/50\n",
            "18/18 [==============================] - 0s 3ms/step - loss: 808.2859\n",
            "Epoch 22/50\n",
            "18/18 [==============================] - 0s 4ms/step - loss: 751.8546\n",
            "Epoch 23/50\n",
            "18/18 [==============================] - 0s 3ms/step - loss: 698.2310\n",
            "Epoch 24/50\n",
            "18/18 [==============================] - 0s 4ms/step - loss: 647.5165\n",
            "Epoch 25/50\n",
            "18/18 [==============================] - 0s 4ms/step - loss: 599.6877\n",
            "Epoch 26/50\n",
            "18/18 [==============================] - 0s 3ms/step - loss: 554.8614\n",
            "Epoch 27/50\n",
            "18/18 [==============================] - 0s 3ms/step - loss: 512.8379\n",
            "Epoch 28/50\n",
            "18/18 [==============================] - 0s 3ms/step - loss: 473.7307\n",
            "Epoch 29/50\n",
            "18/18 [==============================] - 0s 4ms/step - loss: 437.4730\n",
            "Epoch 30/50\n",
            "18/18 [==============================] - 0s 3ms/step - loss: 403.6651\n",
            "Epoch 31/50\n",
            "18/18 [==============================] - 0s 4ms/step - loss: 372.0374\n",
            "Epoch 32/50\n",
            "18/18 [==============================] - 0s 4ms/step - loss: 343.4208\n",
            "Epoch 33/50\n",
            "18/18 [==============================] - 0s 4ms/step - loss: 316.3919\n",
            "Epoch 34/50\n",
            "18/18 [==============================] - 0s 4ms/step - loss: 291.9682\n",
            "Epoch 35/50\n",
            "18/18 [==============================] - 0s 4ms/step - loss: 269.2323\n",
            "Epoch 36/50\n",
            "18/18 [==============================] - 0s 3ms/step - loss: 248.4691\n",
            "Epoch 37/50\n",
            "18/18 [==============================] - 0s 3ms/step - loss: 229.4656\n",
            "Epoch 38/50\n",
            "18/18 [==============================] - 0s 3ms/step - loss: 212.0930\n",
            "Epoch 39/50\n",
            "18/18 [==============================] - 0s 3ms/step - loss: 196.0994\n",
            "Epoch 40/50\n",
            "18/18 [==============================] - 0s 4ms/step - loss: 181.7043\n",
            "Epoch 41/50\n",
            "18/18 [==============================] - 0s 3ms/step - loss: 168.4123\n",
            "Epoch 42/50\n",
            "18/18 [==============================] - 0s 3ms/step - loss: 156.5546\n",
            "Epoch 43/50\n",
            "18/18 [==============================] - 0s 3ms/step - loss: 145.6802\n",
            "Epoch 44/50\n",
            "18/18 [==============================] - 0s 3ms/step - loss: 135.8391\n",
            "Epoch 45/50\n",
            "18/18 [==============================] - 0s 2ms/step - loss: 127.0114\n",
            "Epoch 46/50\n",
            "18/18 [==============================] - 0s 2ms/step - loss: 118.9921\n",
            "Epoch 47/50\n",
            "18/18 [==============================] - 0s 3ms/step - loss: 111.8243\n",
            "Epoch 48/50\n",
            "18/18 [==============================] - 0s 3ms/step - loss: 105.3307\n",
            "Epoch 49/50\n",
            "18/18 [==============================] - 0s 3ms/step - loss: 99.4741\n",
            "Epoch 50/50\n",
            "18/18 [==============================] - 0s 3ms/step - loss: 94.3351\n"
          ]
        },
        {
          "output_type": "execute_result",
          "data": {
            "text/plain": [
              "<keras.src.callbacks.History at 0x79ff6593d180>"
            ]
          },
          "metadata": {},
          "execution_count": 79
        }
      ]
    },
    {
      "cell_type": "markdown",
      "source": [
        "# Utilize the trained model to forecast stock price values for the test set data"
      ],
      "metadata": {
        "id": "XGrtb9CCeCy2"
      }
    },
    {
      "cell_type": "code",
      "source": [
        "predicted_prices = model.predict(X_test_reshaped)"
      ],
      "metadata": {
        "colab": {
          "base_uri": "https://localhost:8080/"
        },
        "id": "RVc8B6R38eH2",
        "outputId": "605194ef-9b95-4dab-e92e-f12fc304c5f0"
      },
      "execution_count": 80,
      "outputs": [
        {
          "output_type": "stream",
          "name": "stdout",
          "text": [
            "5/5 [==============================] - 0s 3ms/step\n"
          ]
        }
      ]
    },
    {
      "cell_type": "markdown",
      "source": [
        "# Assess the performance of the model by computing the Root Mean Squared Error (RMSE) value"
      ],
      "metadata": {
        "id": "7cNxOXuZeE1q"
      }
    },
    {
      "cell_type": "code",
      "source": [
        "from sklearn.metrics import mean_squared_error"
      ],
      "metadata": {
        "id": "Cc073ZMp8jUj"
      },
      "execution_count": 81,
      "outputs": []
    },
    {
      "cell_type": "markdown",
      "source": [
        "# Calculate RMSE"
      ],
      "metadata": {
        "id": "0jaIMo98eGj0"
      }
    },
    {
      "cell_type": "code",
      "source": [
        "rmse = np.sqrt(mean_squared_error(y_test, predicted_prices))"
      ],
      "metadata": {
        "id": "H1Q0QQRo8mzw"
      },
      "execution_count": 82,
      "outputs": []
    },
    {
      "cell_type": "markdown",
      "source": [
        "# Print RMSE"
      ],
      "metadata": {
        "id": "fhA0O8RXeIKJ"
      }
    },
    {
      "cell_type": "code",
      "source": [
        "print(f'Root Mean Squared Error (RMSE): {rmse}')"
      ],
      "metadata": {
        "colab": {
          "base_uri": "https://localhost:8080/"
        },
        "id": "shdTDI4t8ppK",
        "outputId": "a9d0b742-8f90-4779-caa7-d7540c8491a4"
      },
      "execution_count": 83,
      "outputs": [
        {
          "output_type": "stream",
          "name": "stdout",
          "text": [
            "Root Mean Squared Error (RMSE): 10.222468098139197\n"
          ]
        }
      ]
    },
    {
      "cell_type": "markdown",
      "source": [
        "#Plot actual prices & predicated prices, then set labels and title. Next after adding the legend show the plot"
      ],
      "metadata": {
        "id": "xwuxxl8DeJx2"
      }
    },
    {
      "cell_type": "code",
      "source": [
        "import matplotlib.pyplot as plt\n",
        "\n",
        "plt.plot(y_test.index, y_test.values, label='Actual Prices')\n",
        "\n",
        "plt.plot(y_test.index, predicted_prices, label='Predicted Prices')\n",
        "\n",
        "plt.xlabel('Index')\n",
        "plt.ylabel('Price')\n",
        "plt.title('Actual vs. Predicted Prices')\n",
        "\n",
        "plt.legend()\n",
        "\n",
        "plt.show()\n"
      ],
      "metadata": {
        "colab": {
          "base_uri": "https://localhost:8080/",
          "height": 472
        },
        "id": "r_fFMy_T98aA",
        "outputId": "6f182182-9d1f-4b1f-b005-d2378fa3d55b"
      },
      "execution_count": 84,
      "outputs": [
        {
          "output_type": "display_data",
          "data": {
            "text/plain": [
              "<Figure size 640x480 with 1 Axes>"
            ],
            "image/png": "[encoded data removed]"
          },
          "metadata": {}
        }
      ]
    },
    {
      "cell_type": "code",
      "source": [
        "results = pd.DataFrame({'Actual Prices': y_test.values, 'Predicted Prices': predicted_prices.flatten()}, index=y_test.index)\n",
        "\n",
        "print(results)\n"
      ],
      "metadata": {
        "colab": {
          "base_uri": "https://localhost:8080/"
        },
        "id": "iQmMd0E4I-3d",
        "outputId": "5fa84e87-e509-47bc-b760-a14bc774ca1f"
      },
      "execution_count": 86,
      "outputs": [
        {
          "output_type": "stream",
          "name": "stdout",
          "text": [
            "     Actual Prices  Predicted Prices\n",
            "120           51.9         38.283508\n",
            "331           49.3         37.514317\n",
            "39            40.0         35.680141\n",
            "636           36.3         37.060547\n",
            "514           21.5         25.197542\n",
            "..             ...               ...\n",
            "132           47.7         37.173779\n",
            "292           51.4         38.492477\n",
            "41            37.0         36.775066\n",
            "108           54.0         38.757244\n",
            "264           48.0         38.207249\n",
            "\n",
            "[144 rows x 2 columns]\n"
          ]
        }
      ]
    },
    {
      "cell_type": "markdown",
      "source": [
        "# Train the model with validation data"
      ],
      "metadata": {
        "id": "53bLlFiIgnAb"
      }
    },
    {
      "cell_type": "code",
      "source": [
        "history = model.fit(X_train_reshaped, y_train, epochs=50, batch_size=32, verbose=1, validation_data=(X_test_reshaped, y_test))\n"
      ],
      "metadata": {
        "colab": {
          "base_uri": "https://localhost:8080/"
        },
        "id": "XYK_3bNlgf-8",
        "outputId": "0afe6fe9-96ea-4c7b-f7bf-7181a213f329"
      },
      "execution_count": 93,
      "outputs": [
        {
          "output_type": "stream",
          "name": "stdout",
          "text": [
            "Epoch 1/50\n",
            "18/18 [==============================] - 0s 10ms/step - loss: 23.8111 - val_loss: 32.1048\n",
            "Epoch 2/50\n",
            "18/18 [==============================] - 0s 5ms/step - loss: 23.4817 - val_loss: 31.7520\n",
            "Epoch 3/50\n",
            "18/18 [==============================] - 0s 6ms/step - loss: 23.1672 - val_loss: 31.3935\n",
            "Epoch 4/50\n",
            "18/18 [==============================] - 0s 7ms/step - loss: 22.8419 - val_loss: 31.0591\n",
            "Epoch 5/50\n",
            "18/18 [==============================] - 0s 6ms/step - loss: 22.5299 - val_loss: 30.7293\n",
            "Epoch 6/50\n",
            "18/18 [==============================] - 0s 6ms/step - loss: 22.2384 - val_loss: 30.3720\n",
            "Epoch 7/50\n",
            "18/18 [==============================] - 0s 5ms/step - loss: 21.9283 - val_loss: 30.0305\n",
            "Epoch 8/50\n",
            "18/18 [==============================] - 0s 5ms/step - loss: 21.6258 - val_loss: 29.7102\n",
            "Epoch 9/50\n",
            "18/18 [==============================] - 0s 4ms/step - loss: 21.3486 - val_loss: 29.3707\n",
            "Epoch 10/50\n",
            "18/18 [==============================] - 0s 7ms/step - loss: 21.0374 - val_loss: 29.0681\n",
            "Epoch 11/50\n",
            "18/18 [==============================] - 0s 5ms/step - loss: 20.7718 - val_loss: 28.7410\n",
            "Epoch 12/50\n",
            "18/18 [==============================] - 0s 4ms/step - loss: 20.4885 - val_loss: 28.4295\n",
            "Epoch 13/50\n",
            "18/18 [==============================] - 0s 4ms/step - loss: 20.2179 - val_loss: 28.1227\n",
            "Epoch 14/50\n",
            "18/18 [==============================] - 0s 5ms/step - loss: 19.9490 - val_loss: 27.8229\n",
            "Epoch 15/50\n",
            "18/18 [==============================] - 0s 6ms/step - loss: 19.6864 - val_loss: 27.5355\n",
            "Epoch 16/50\n",
            "18/18 [==============================] - 0s 5ms/step - loss: 19.4347 - val_loss: 27.2365\n",
            "Epoch 17/50\n",
            "18/18 [==============================] - 0s 5ms/step - loss: 19.1804 - val_loss: 26.9440\n",
            "Epoch 18/50\n",
            "18/18 [==============================] - 0s 5ms/step - loss: 18.9296 - val_loss: 26.6640\n",
            "Epoch 19/50\n",
            "18/18 [==============================] - 0s 5ms/step - loss: 18.6886 - val_loss: 26.3880\n",
            "Epoch 20/50\n",
            "18/18 [==============================] - 0s 5ms/step - loss: 18.4627 - val_loss: 26.1089\n",
            "Epoch 21/50\n",
            "18/18 [==============================] - 0s 5ms/step - loss: 18.2192 - val_loss: 25.8388\n",
            "Epoch 22/50\n",
            "18/18 [==============================] - 0s 5ms/step - loss: 17.9930 - val_loss: 25.5809\n",
            "Epoch 23/50\n",
            "18/18 [==============================] - 0s 5ms/step - loss: 17.7699 - val_loss: 25.3256\n",
            "Epoch 24/50\n",
            "18/18 [==============================] - 0s 5ms/step - loss: 17.5552 - val_loss: 25.0905\n",
            "Epoch 25/50\n",
            "18/18 [==============================] - 0s 5ms/step - loss: 17.3455 - val_loss: 24.8520\n",
            "Epoch 26/50\n",
            "18/18 [==============================] - 0s 5ms/step - loss: 17.1439 - val_loss: 24.6120\n",
            "Epoch 27/50\n",
            "18/18 [==============================] - 0s 6ms/step - loss: 16.9470 - val_loss: 24.3857\n",
            "Epoch 28/50\n",
            "18/18 [==============================] - 0s 7ms/step - loss: 16.7504 - val_loss: 24.1594\n",
            "Epoch 29/50\n",
            "18/18 [==============================] - 0s 6ms/step - loss: 16.5547 - val_loss: 23.9514\n",
            "Epoch 30/50\n",
            "18/18 [==============================] - 0s 6ms/step - loss: 16.3826 - val_loss: 23.7322\n",
            "Epoch 31/50\n",
            "18/18 [==============================] - 0s 6ms/step - loss: 16.2056 - val_loss: 23.5191\n",
            "Epoch 32/50\n",
            "18/18 [==============================] - 0s 6ms/step - loss: 16.0255 - val_loss: 23.3256\n",
            "Epoch 33/50\n",
            "18/18 [==============================] - 0s 6ms/step - loss: 15.8695 - val_loss: 23.1371\n",
            "Epoch 34/50\n",
            "18/18 [==============================] - 0s 6ms/step - loss: 15.6921 - val_loss: 22.9592\n",
            "Epoch 35/50\n",
            "18/18 [==============================] - 0s 6ms/step - loss: 15.5460 - val_loss: 22.7733\n",
            "Epoch 36/50\n",
            "18/18 [==============================] - 0s 5ms/step - loss: 15.3990 - val_loss: 22.6024\n",
            "Epoch 37/50\n",
            "18/18 [==============================] - 0s 5ms/step - loss: 15.2481 - val_loss: 22.4424\n",
            "Epoch 38/50\n",
            "18/18 [==============================] - 0s 4ms/step - loss: 15.1126 - val_loss: 22.2886\n",
            "Epoch 39/50\n",
            "18/18 [==============================] - 0s 5ms/step - loss: 14.9744 - val_loss: 22.1308\n",
            "Epoch 40/50\n",
            "18/18 [==============================] - 0s 5ms/step - loss: 14.8424 - val_loss: 21.9862\n",
            "Epoch 41/50\n",
            "18/18 [==============================] - 0s 5ms/step - loss: 14.7197 - val_loss: 21.8401\n",
            "Epoch 42/50\n",
            "18/18 [==============================] - 0s 4ms/step - loss: 14.6092 - val_loss: 21.6972\n",
            "Epoch 43/50\n",
            "18/18 [==============================] - 0s 4ms/step - loss: 14.4784 - val_loss: 21.5566\n",
            "Epoch 44/50\n",
            "18/18 [==============================] - 0s 5ms/step - loss: 14.3635 - val_loss: 21.4351\n",
            "Epoch 45/50\n",
            "18/18 [==============================] - 0s 4ms/step - loss: 14.2497 - val_loss: 21.3078\n",
            "Epoch 46/50\n",
            "18/18 [==============================] - 0s 5ms/step - loss: 14.1475 - val_loss: 21.1869\n",
            "Epoch 47/50\n",
            "18/18 [==============================] - 0s 4ms/step - loss: 14.0421 - val_loss: 21.0654\n",
            "Epoch 48/50\n",
            "18/18 [==============================] - 0s 5ms/step - loss: 13.9420 - val_loss: 20.9431\n",
            "Epoch 49/50\n",
            "18/18 [==============================] - 0s 5ms/step - loss: 13.8334 - val_loss: 20.8501\n",
            "Epoch 50/50\n",
            "18/18 [==============================] - 0s 5ms/step - loss: 13.7429 - val_loss: 20.7398\n"
          ]
        }
      ]
    },
    {
      "cell_type": "markdown",
      "source": [
        "# Plot the model loss curve"
      ],
      "metadata": {
        "id": "ZdMx91Y5gSfq"
      }
    },
    {
      "cell_type": "code",
      "source": [
        "import matplotlib.pyplot as plt\n",
        "\n",
        "plt.plot(model.history.history['loss'], label='Training Loss')\n",
        "plt.plot(model.history.history['val_loss'], label='Validation Loss')\n",
        "plt.xlabel('Epoch')\n",
        "plt.ylabel('Loss')\n",
        "plt.title('Model Loss Curve')\n",
        "plt.legend()\n",
        "plt.show()\n"
      ],
      "metadata": {
        "colab": {
          "base_uri": "https://localhost:8080/",
          "height": 472
        },
        "id": "T6X85pgIgQeN",
        "outputId": "e78ae227-6fb9-4959-efe2-3d1302187509"
      },
      "execution_count": 94,
      "outputs": [
        {
          "output_type": "display_data",
          "data": {
            "text/plain": [
              "<Figure size 640x480 with 1 Axes>"
            ],
            "image/png": "[encoded data removed]"
          },
          "metadata": {}
        }
      ]
    }
  ]
}